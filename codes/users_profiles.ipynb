{
 "cells": [
  {
   "cell_type": "code",
   "execution_count": 43,
   "metadata": {},
   "outputs": [],
   "source": [
    "from opencage.geocoder import OpenCageGeocode\n",
    "\n",
    "import os\n",
    "import json\n",
    "import matplotlib.pyplot as plt \n",
    "import numpy as np\n",
    "\n",
    "key = '9182f7fcbdf14fb3902cd9c94d60e80c'\n",
    "geocoder = OpenCageGeocode(key)\n",
    "\n",
    "\n",
    "%matplotlib inline"
   ]
  },
  {
   "cell_type": "code",
   "execution_count": 44,
   "metadata": {},
   "outputs": [],
   "source": [
    "users_list = []\n",
    "\n",
    "files = os.listdir('C:/Users/Admin/Documents/NET_COVID_projects/NET_COVID_proj2_slackdyn/SlackExtract/slackdynamics_beta_users/meta/users/users_data/')\n",
    "users_list.extend(files)"
   ]
  },
  {
   "cell_type": "code",
   "execution_count": 45,
   "metadata": {},
   "outputs": [
    {
     "data": {
      "text/plain": [
       "205"
      ]
     },
     "execution_count": 45,
     "metadata": {},
     "output_type": "execute_result"
    }
   ],
   "source": [
    "len(users_list)"
   ]
  },
  {
   "cell_type": "code",
   "execution_count": 65,
   "metadata": {},
   "outputs": [
    {
     "name": "stdout",
     "output_type": "stream",
     "text": [
      "{'id': 'U011LE0HAER', 'team_id': 'T011F64NCRL', 'name': 'google_calendar', 'deleted': True, 'profile': {'title': '', 'phone': '', 'skype': '', 'real_name': 'Google Calendar', 'real_name_normalized': 'Google Calendar', 'display_name': '', 'display_name_normalized': '', 'status_text': '', 'status_emoji': '', 'status_expiration': 0, 'avatar_hash': 'c37d7317cfca', 'api_app_id': 'ADZ494LHY', 'always_active': True, 'image_original': 'https://avatars.slack-edge.com/2020-04-09/1050657585618_c37d7317cfcabc61fc60_original.png', 'is_custom_image': True, 'bot_id': 'B011LE0H9RB', 'image_24': 'https://avatars.slack-edge.com/2020-04-09/1050657585618_c37d7317cfcabc61fc60_24.png', 'image_32': 'https://avatars.slack-edge.com/2020-04-09/1050657585618_c37d7317cfcabc61fc60_32.png', 'image_48': 'https://avatars.slack-edge.com/2020-04-09/1050657585618_c37d7317cfcabc61fc60_48.png', 'image_72': 'https://avatars.slack-edge.com/2020-04-09/1050657585618_c37d7317cfcabc61fc60_72.png', 'image_192': 'https://avatars.slack-edge.com/2020-04-09/1050657585618_c37d7317cfcabc61fc60_192.png', 'image_512': 'https://avatars.slack-edge.com/2020-04-09/1050657585618_c37d7317cfcabc61fc60_512.png', 'image_1024': 'https://avatars.slack-edge.com/2020-04-09/1050657585618_c37d7317cfcabc61fc60_1024.png', 'status_text_canonical': '', 'team': 'T011F64NCRL'}, 'is_bot': True, 'is_app_user': False, 'updated': 1586793707}\n",
      "{'id': 'USLACKBOT', 'team_id': 'T011F64NCRL', 'name': 'slackbot', 'deleted': False, 'color': '757575', 'real_name': 'Slackbot', 'tz': None, 'tz_label': 'Pacific Daylight Time', 'tz_offset': -25200, 'profile': {'title': '', 'phone': '', 'skype': '', 'real_name': 'Slackbot', 'real_name_normalized': 'Slackbot', 'display_name': 'Slackbot', 'display_name_normalized': 'Slackbot', 'fields': None, 'status_text': '', 'status_emoji': '', 'status_expiration': 0, 'avatar_hash': 'sv41d8cd98f0', 'always_active': True, 'first_name': 'slackbot', 'last_name': '', 'image_24': 'https://a.slack-edge.com/80588/img/slackbot_24.png', 'image_32': 'https://a.slack-edge.com/80588/img/slackbot_32.png', 'image_48': 'https://a.slack-edge.com/80588/img/slackbot_48.png', 'image_72': 'https://a.slack-edge.com/80588/img/slackbot_72.png', 'image_192': 'https://a.slack-edge.com/80588/marketing/img/avatars/slackbot/avatar-slackbot.png', 'image_512': 'https://a.slack-edge.com/80588/img/slackbot_512.png', 'status_text_canonical': '', 'team': 'T011F64NCRL'}, 'is_admin': False, 'is_owner': False, 'is_primary_owner': False, 'is_restricted': False, 'is_ultra_restricted': False, 'is_bot': False, 'is_app_user': False, 'updated': 0}\n"
     ]
    }
   ],
   "source": [
    "user_loc = {}\n",
    "error = 0\n",
    "for u in users_list:\n",
    "    \n",
    "    with open('C:/Users/Admin/Documents/NET_COVID_projects/NET_COVID_proj2_slackdyn/SlackExtract/slackdynamics_beta_users/meta/users/users_data/%s'%(u),encoding='utf-16') as json_file:\n",
    "        usr = json.load(json_file)\n",
    "        \n",
    "        try:\n",
    "            \n",
    "            tz = usr['tz']\n",
    "            name = usr['real_name']\n",
    "            \n",
    "            user_loc[name] = {}\n",
    "            user_loc[name]['tz'] = ''\n",
    "            user_loc[name]['latlong'] = 0\n",
    "            user_loc[name]['tz'] = tz\n",
    "            \n",
    "            \n",
    "            region = tz.split('/')\n",
    "            city = region[-1]\n",
    "            if '_' in city:\n",
    "                city = city.replace('_',' ')\n",
    "            query = city\n",
    "            results = geocoder.geocode(query)\n",
    "            lat = results[0]['geometry']['lat']\n",
    "\n",
    "            lng = results[0]['geometry']['lng']\n",
    "\n",
    "            user_loc[name]['latlong'] = (lat,lng)\n",
    "            \n",
    "        except:\n",
    "            print(usr)\n",
    "            error+=1\n",
    "        \n",
    "        \n",
    "    "
   ]
  },
  {
   "cell_type": "code",
   "execution_count": 81,
   "metadata": {},
   "outputs": [],
   "source": [
    "with open('user_locations.json', 'w') as outfile:\n",
    "    json.dump(user_loc, outfile, indent=2)"
   ]
  },
  {
   "cell_type": "code",
   "execution_count": null,
   "metadata": {},
   "outputs": [],
   "source": []
  },
  {
   "cell_type": "code",
   "execution_count": null,
   "metadata": {},
   "outputs": [],
   "source": []
  }
 ],
 "metadata": {
  "kernelspec": {
   "display_name": "Python 2",
   "language": "python",
   "name": "python2"
  },
  "language_info": {
   "codemirror_mode": {
    "name": "ipython",
    "version": 2
   },
   "file_extension": ".py",
   "mimetype": "text/x-python",
   "name": "python",
   "nbconvert_exporter": "python",
   "pygments_lexer": "ipython2",
   "version": "2.7.15"
  }
 },
 "nbformat": 4,
 "nbformat_minor": 2
}
